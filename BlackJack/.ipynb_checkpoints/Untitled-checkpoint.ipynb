{
 "cells": [
  {
   "cell_type": "code",
   "execution_count": 38,
   "metadata": {
    "collapsed": false
   },
   "outputs": [
    {
     "ename": "IndentationError",
     "evalue": "expected an indented block (<ipython-input-38-3fbf4db9dd37>, line 48)",
     "output_type": "error",
     "traceback": [
      "\u001b[1;36m  File \u001b[1;32m\"<ipython-input-38-3fbf4db9dd37>\"\u001b[1;36m, line \u001b[1;32m48\u001b[0m\n\u001b[1;33m    def gameLoop():\u001b[0m\n\u001b[1;37m                   ^\u001b[0m\n\u001b[1;31mIndentationError\u001b[0m\u001b[1;31m:\u001b[0m expected an indented block\n"
     ]
    }
   ],
   "source": [
    "import random\n",
    "\n",
    "cards = {\n",
    "    \"2\": [2, 4],\n",
    "    \"3\": [3, 4],\n",
    "    \"4\": [4, 4],\n",
    "    \"5\": [5, 4], \n",
    "    \"6\": [6, 4],\n",
    "    \"7\": [7, 4],\n",
    "    \"8\": [8, 4],\n",
    "    \"9\": [9, 4],\n",
    "    \"10\": [10, 4],\n",
    "    \"J\": [10, 4],\n",
    "    \"Q\": [10, 4],\n",
    "    \"K\": [10, 4],\n",
    "    \"A\": [[1, 11], 4]\n",
    "}\n",
    "\n",
    "class Deck(object):\n",
    "    \n",
    "    def firstDraw(self, cards):\n",
    "        selectedCards = []\n",
    "        while len(selectedCards) < 2:\n",
    "            i = len(selectedCards)\n",
    "            selectedCards.append(random.choice(cards.keys()))\n",
    "            self.cards[selectedCards[i]][1] -= 1\n",
    "\n",
    "        return selectedCards\n",
    "    \n",
    "    def __init__(self, cards):\n",
    "        self.cards = cards\n",
    "        \n",
    "        \n",
    "class Hand(object): \n",
    "        \n",
    "    def __init__(self):\n",
    "        self.currentHand = []\n",
    "        \n",
    "def playerTurn():\n",
    "    while True:\n",
    "        decision = input(\"Stick or Hit\").lower\n",
    "        if decision == \"stick\":\n",
    "            return \"stick\"\n",
    "        elif decision == \"hit\":\n",
    "            return \"hit\"\n",
    "        else:\n",
    "            \n",
    "    \n",
    "        \n",
    "        \n",
    "def gameLoop():\n",
    "    newHand = Hand()\n",
    "    deck = Deck(cards)\n",
    "    newHand.currentHand = deck.firstDraw(deck.cards)\n",
    "    print newHand.currentHand\n",
    "gameLoop()\n",
    "    "
   ]
  },
  {
   "cell_type": "code",
   "execution_count": null,
   "metadata": {
    "collapsed": true
   },
   "outputs": [],
   "source": []
  },
  {
   "cell_type": "code",
   "execution_count": null,
   "metadata": {
    "collapsed": true
   },
   "outputs": [],
   "source": []
  }
 ],
 "metadata": {
  "anaconda-cloud": {},
  "kernelspec": {
   "display_name": "Python [Root]",
   "language": "python",
   "name": "Python [Root]"
  },
  "language_info": {
   "codemirror_mode": {
    "name": "ipython",
    "version": 2
   },
   "file_extension": ".py",
   "mimetype": "text/x-python",
   "name": "python",
   "nbconvert_exporter": "python",
   "pygments_lexer": "ipython2",
   "version": "2.7.12"
  }
 },
 "nbformat": 4,
 "nbformat_minor": 0
}
