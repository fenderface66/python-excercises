{
 "cells": [
  {
   "cell_type": "code",
   "execution_count": null,
   "metadata": {
    "collapsed": false
   },
   "outputs": [],
   "source": [
    "turns = []\n",
    "board = range(1, 10)\n",
    "grid = []\n",
    "\n",
    "def takeTurn(move):\n",
    "    turn = input(\"Your Move \")\n",
    "    turns.append(turn)\n",
    " \n",
    "        \n",
    "    \n",
    "def registerTurn():    \n",
    "    #Generate rows with length of 3\n",
    "    for row in range(3):\n",
    "        # Append a blank list to each row cell\n",
    "        grid.append([])\n",
    "        for column in range(3):\n",
    "        # Assign x to each row\n",
    "            grid[row].append('x')\n",
    "\n",
    "# Function will print board like an actual board\n",
    "def print_grid(grid):\n",
    "    for row in grid:\n",
    "        print \" \".join(row)\n",
    "    \n",
    "def gameLoop():\n",
    "    for turn in board:\n",
    "        if len(turns) == 8:\n",
    "            print \"game over\"    \n",
    "        else:\n",
    "            takeTurn(turn)\n",
    "        \n",
    "        print_grid(grid)\n",
    "\n",
    "drawBoard()\n",
    "gameLoop()"
   ]
  },
  {
   "cell_type": "markdown",
   "metadata": {
    "collapsed": true
   },
   "source": [
    "\n",
    "\n",
    "\n",
    "\n"
   ]
  },
  {
   "cell_type": "code",
   "execution_count": null,
   "metadata": {
    "collapsed": true
   },
   "outputs": [],
   "source": []
  }
 ],
 "metadata": {
  "anaconda-cloud": {},
  "kernelspec": {
   "display_name": "Python [Root]",
   "language": "python",
   "name": "Python [Root]"
  },
  "language_info": {
   "codemirror_mode": {
    "name": "ipython",
    "version": 2
   },
   "file_extension": ".py",
   "mimetype": "text/x-python",
   "name": "python",
   "nbconvert_exporter": "python",
   "pygments_lexer": "ipython2",
   "version": "2.7.12"
  }
 },
 "nbformat": 4,
 "nbformat_minor": 0
}
