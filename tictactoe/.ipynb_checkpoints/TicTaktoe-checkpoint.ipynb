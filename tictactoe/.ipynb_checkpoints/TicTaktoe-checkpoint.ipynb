{
 "cells": [
  {
   "cell_type": "code",
   "execution_count": null,
   "metadata": {
    "collapsed": false
   },
   "outputs": [
    {
     "name": "stdout",
     "output_type": "stream",
     "text": [
      "[]\n"
     ]
    }
   ],
   "source": [
    "import os\n",
    "\n",
    "\n",
    "turns = []\n",
    "board = range(1, 10)\n",
    "grid = []\n",
    "\n",
    "def takeTurn(move, player):\n",
    "    turn = input(\"Your Move \")\n",
    "    if len(turns) == 0:\n",
    "        turns.append(turn)\n",
    "        registerTurn(grid, player);\n",
    "        findWin(grid, player)\n",
    "        \n",
    "    else:\n",
    "        for move in turns:\n",
    "            print move\n",
    "            print turns\n",
    "            if move == turn:\n",
    "                print move,\"move\"\n",
    "                print turns, \"turns\"\n",
    "                print \"This move has already been made, please try again\"\n",
    "            else:\n",
    "                turns.append(turn)\n",
    "                registerTurn(grid, player);\n",
    "                findWin(grid, player)\n",
    "\n",
    "        \n",
    "def createGrid():    \n",
    "    #Generate rows with length of 3\n",
    "    for row in range(3):\n",
    "        # Append a blank list to each row cell\n",
    "        grid.append([])\n",
    "        for column in range(3):\n",
    "        # Assign - to each row\n",
    "            grid[row].append('-')\n",
    "    \n",
    "    \n",
    "def registerTurn(grid, player):\n",
    "    colID = 0\n",
    "    for row in grid:\n",
    "        for idx, column in enumerate(row):\n",
    "            colID += 1\n",
    "            if colID == turns[-1]:\n",
    "                if player == \"x\":\n",
    "                    row[idx] = \"x\"\n",
    "                else:     \n",
    "                    row[idx] = \"o\"\n",
    "                    \n",
    "def findWin(grid, player):\n",
    "    winCount = 0\n",
    "    winTypes = [\n",
    "        #Vertical Line\n",
    "        [0,0,0],\n",
    "        #Horizontal Line\n",
    "        [0,0,0],\n",
    "        #Diagonal Line\n",
    "        [0,0]\n",
    "    ]\n",
    "    colID = 0\n",
    "    for row in grid:\n",
    "        for idx, column in enumerate(row):\n",
    "            colID += 1\n",
    "            \n",
    "            if row[idx] == player:\n",
    "                if colID % 3 == 1:\n",
    "                    winTypes[0][0] += 1\n",
    "                if colID % 3 == 2:\n",
    "                    winTypes[0][1] += 1\n",
    "                if colID % 3 == 0:\n",
    "                    winTypes[0][2] += 1   \n",
    "                if colID <= 3:\n",
    "                    winTypes[1][0] += 1\n",
    "                if colID >3 and colID < 7:\n",
    "                    winTypes[1][1] += 1\n",
    "                if colID > 7:\n",
    "                    winTypes[1][2] += 1\n",
    "                if colID == 3 or colID == 5 or colID == 7:\n",
    "                    winTypes[2][0] += 1\n",
    "                if colID == 1 or colID == 5 or colID == 9:    \n",
    "                    winTypes[2][1] += 1\n",
    "\n",
    "    for val in winTypes:\n",
    "        for score in val:\n",
    "            if score == 3:\n",
    "                print \"Winner!\"\n",
    "\n",
    "\n",
    "# Function will print board like an actual board\n",
    "def print_grid(grid):\n",
    "    for row in grid:\n",
    "        print \" \".join(row)\n",
    "        \n",
    "    \n",
    "def gameLoop():\n",
    "    \n",
    "    for move in board:\n",
    "        print turns\n",
    "        if len(turns) == 9:\n",
    "            print \"game over\"    \n",
    "        else:\n",
    "            if len(turns) % 2 == 0:\n",
    "                takeTurn(move, \"o\")\n",
    "            else:\n",
    "                takeTurn(move, \"x\")  \n",
    "                \n",
    "        os.system('cls')  # on windows\n",
    "        print(grid)\n",
    "        print_grid(grid)\n",
    "\n",
    "createGrid()\n",
    "gameLoop()"
   ]
  },
  {
   "cell_type": "markdown",
   "metadata": {
    "collapsed": true
   },
   "source": [
    "## "
   ]
  },
  {
   "cell_type": "code",
   "execution_count": null,
   "metadata": {
    "collapsed": true
   },
   "outputs": [],
   "source": []
  },
  {
   "cell_type": "code",
   "execution_count": null,
   "metadata": {
    "collapsed": true
   },
   "outputs": [],
   "source": []
  }
 ],
 "metadata": {
  "anaconda-cloud": {},
  "kernelspec": {
   "display_name": "Python [Root]",
   "language": "python",
   "name": "Python [Root]"
  },
  "language_info": {
   "codemirror_mode": {
    "name": "ipython",
    "version": 2
   },
   "file_extension": ".py",
   "mimetype": "text/x-python",
   "name": "python",
   "nbconvert_exporter": "python",
   "pygments_lexer": "ipython2",
   "version": "2.7.12"
  }
 },
 "nbformat": 4,
 "nbformat_minor": 0
}
